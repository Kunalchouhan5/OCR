{
 "cells": [
  {
   "cell_type": "code",
   "execution_count": 1,
   "id": "b89f27a8",
   "metadata": {},
   "outputs": [],
   "source": [
    "from scipy.io import loadmat\n",
    "mnist = loadmat(\"mnist-original\")\n",
    "mnist_data = mnist[\"data\"].T\n",
    "mnist_label = mnist[\"label\"][0]"
   ]
  },
  {
   "cell_type": "code",
   "execution_count": 2,
   "id": "19bff4c7",
   "metadata": {},
   "outputs": [],
   "source": [
    "mnist_data = mnist_data.reshape(70000, 28, 28, 1).astype(\"float32\")/255\n",
    "x, y = mnist_data, mnist_label"
   ]
  },
  {
   "cell_type": "code",
   "execution_count": 3,
   "id": "06288ff9",
   "metadata": {},
   "outputs": [],
   "source": [
    "from sklearn.model_selection import train_test_split\n",
    "train_images, test_images, train_labels, test_labels = train_test_split(x,y, test_size=0.1)"
   ]
  },
  {
   "cell_type": "code",
   "execution_count": 4,
   "id": "06fdbc37",
   "metadata": {},
   "outputs": [],
   "source": [
    "from keras.utils import to_categorical\n",
    "\n",
    "\n",
    "train_labels = to_categorical(train_labels)\n",
    "test_labels = to_categorical(test_labels)"
   ]
  },
  {
   "cell_type": "code",
   "execution_count": 5,
   "id": "add10c69",
   "metadata": {},
   "outputs": [
    {
     "name": "stdout",
     "output_type": "stream",
     "text": [
      "Model: \"sequential\"\n",
      "_________________________________________________________________\n",
      " Layer (type)                Output Shape              Param #   \n",
      "=================================================================\n",
      " conv2d (Conv2D)             (None, 26, 26, 32)        320       \n",
      "                                                                 \n",
      " max_pooling2d (MaxPooling2D  (None, 13, 13, 32)       0         \n",
      " )                                                               \n",
      "                                                                 \n",
      " conv2d_1 (Conv2D)           (None, 11, 11, 64)        18496     \n",
      "                                                                 \n",
      " max_pooling2d_1 (MaxPooling  (None, 5, 5, 64)         0         \n",
      " 2D)                                                             \n",
      "                                                                 \n",
      " conv2d_2 (Conv2D)           (None, 3, 3, 64)          36928     \n",
      "                                                                 \n",
      " flatten (Flatten)           (None, 576)               0         \n",
      "                                                                 \n",
      " dense (Dense)               (None, 64)                36928     \n",
      "                                                                 \n",
      " dense_1 (Dense)             (None, 10)                650       \n",
      "                                                                 \n",
      "=================================================================\n",
      "Total params: 93,322\n",
      "Trainable params: 93,322\n",
      "Non-trainable params: 0\n",
      "_________________________________________________________________\n"
     ]
    }
   ],
   "source": [
    "from keras import models\n",
    "from keras import layers\n",
    "\n",
    "model = models.Sequential()\n",
    "model.add(layers.Conv2D(32,(3,3), activation = \"relu\", input_shape = (28, 28, 1)))\n",
    "model.add(layers.MaxPooling2D((2,2)))\n",
    "model.add(layers.Conv2D(64,(3,3), activation = \"relu\"))\n",
    "model.add(layers.MaxPooling2D((2,2)))\n",
    "model.add(layers.Conv2D(64,(3,3), activation = \"relu\"))\n",
    "model.add(layers.Flatten())\n",
    "model.add(layers.Dense(64, activation = \"relu\"))\n",
    "model.add(layers.Dense(10,activation= 'softmax'))\n",
    "\n",
    "model.summary()"
   ]
  },
  {
   "cell_type": "code",
   "execution_count": 6,
   "id": "51253c33",
   "metadata": {},
   "outputs": [],
   "source": [
    "model.compile(optimizer = \"rmsprop\",\n",
    "             loss = \"categorical_crossentropy\", \n",
    "             metrics = [\"accuracy\"])"
   ]
  },
  {
   "cell_type": "code",
   "execution_count": 7,
   "id": "cdc8e641",
   "metadata": {},
   "outputs": [
    {
     "name": "stdout",
     "output_type": "stream",
     "text": [
      "Epoch 1/10\n",
      "493/493 [==============================] - 28s 54ms/step - loss: 0.2325 - accuracy: 0.9280\n",
      "Epoch 2/10\n",
      "493/493 [==============================] - 27s 55ms/step - loss: 0.0547 - accuracy: 0.9832\n",
      "Epoch 3/10\n",
      "493/493 [==============================] - 29s 59ms/step - loss: 0.0375 - accuracy: 0.9881\n",
      "Epoch 4/10\n",
      "493/493 [==============================] - 30s 62ms/step - loss: 0.0289 - accuracy: 0.9908\n",
      "Epoch 5/10\n",
      "493/493 [==============================] - 31s 62ms/step - loss: 0.0220 - accuracy: 0.9933\n",
      "Epoch 6/10\n",
      "493/493 [==============================] - 32s 64ms/step - loss: 0.0179 - accuracy: 0.9942\n",
      "Epoch 7/10\n",
      "493/493 [==============================] - 34s 68ms/step - loss: 0.0140 - accuracy: 0.9954\n",
      "Epoch 8/10\n",
      "493/493 [==============================] - 35s 71ms/step - loss: 0.0111 - accuracy: 0.9964\n",
      "Epoch 9/10\n",
      "493/493 [==============================] - 34s 68ms/step - loss: 0.0097 - accuracy: 0.9968\n",
      "Epoch 10/10\n",
      "493/493 [==============================] - 33s 68ms/step - loss: 0.0075 - accuracy: 0.9976\n"
     ]
    },
    {
     "data": {
      "text/plain": [
       "<keras.callbacks.History at 0x158363d3fa0>"
      ]
     },
     "execution_count": 7,
     "metadata": {},
     "output_type": "execute_result"
    }
   ],
   "source": [
    "model.fit(train_images, \n",
    "         train_labels,\n",
    "         epochs = 10,\n",
    "         batch_size = 128)"
   ]
  },
  {
   "cell_type": "code",
   "execution_count": 8,
   "id": "9af28b0d",
   "metadata": {},
   "outputs": [
    {
     "name": "stdout",
     "output_type": "stream",
     "text": [
      "219/219 [==============================] - 2s 7ms/step - loss: 0.0268 - accuracy: 0.9930\n"
     ]
    },
    {
     "data": {
      "text/plain": [
       "[0.026793967932462692, 0.9929999709129333]"
      ]
     },
     "execution_count": 8,
     "metadata": {},
     "output_type": "execute_result"
    }
   ],
   "source": [
    "model.evaluate(test_images, test_labels)"
   ]
  },
  {
   "cell_type": "code",
   "execution_count": 9,
   "id": "4cfdbb42",
   "metadata": {},
   "outputs": [],
   "source": [
    "# from sklearn.model_selection import train_test_split\n",
    "# X_train, X_test, y_train, y_test = train_test_split(df.drop(['target'],axis='columns'),df.target, test_size=0.1)"
   ]
  },
  {
   "cell_type": "code",
   "execution_count": 10,
   "id": "77084bbd",
   "metadata": {},
   "outputs": [],
   "source": [
    "import cv2\n",
    "from imutils import contours\n",
    "\n",
    "\n",
    "image = cv2.imread('image1.jpg')\n",
    "gray = cv2.cvtColor(image, cv2.COLOR_BGR2GRAY)\n",
    "thresh = cv2.threshold(gray,0,200,cv2.THRESH_OTSU + cv2.THRESH_BINARY)[1]\n",
    "\n",
    "cnts = cv2.findContours(thresh, cv2.RETR_EXTERNAL, cv2.CHAIN_APPROX_SIMPLE)\n",
    "cnts = cnts[0] if len(cnts) == 2 else cnts[1]\n",
    "cnts, _ = contours.sort_contours(cnts, method=\"left-to-right\")\n",
    "Padding = 2\n",
    "Border = 10\n",
    "\n",
    "ROI_number = 0\n",
    "for c in cnts:\n",
    "    area = cv2.contourArea(c)\n",
    "    if area > 10:\n",
    "        x,y,w,h = cv2.boundingRect(c)\n",
    "        ROI = gray[y-Padding:y+h+Padding, x-Padding:x+w+Padding]\n",
    "        ROI = cv2.resize(ROI, (28,28))\n",
    "        ROI = cv2.copyMakeBorder(ROI, Border,Border,Border,Border, cv2.BORDER_CONSTANT, value=[0,0,0])\n",
    "        ROI = cv2.resize(ROI, (28,28))\n",
    "        cv2.imwrite('chars/ROI_{}.png'.format(ROI_number), ROI)\n",
    "        cv2.rectangle(image, (x, y), (x + w, y + h), (36,255,12), 1)\n",
    "        ROI_number += 1"
   ]
  },
  {
   "cell_type": "code",
   "execution_count": 11,
   "id": "e3572e15",
   "metadata": {},
   "outputs": [
    {
     "data": {
      "text/plain": [
       "5"
      ]
     },
     "execution_count": 11,
     "metadata": {},
     "output_type": "execute_result"
    }
   ],
   "source": [
    "ROI_number"
   ]
  },
  {
   "cell_type": "code",
   "execution_count": 12,
   "id": "a1267f03",
   "metadata": {},
   "outputs": [],
   "source": [
    "import numpy as np\n",
    "chars = np.ndarray(shape=(ROI_number, 28, 28, 1))\n",
    "for i in range(ROI_number):\n",
    "    image = cv2.imread('chars/ROI_{}.png'.format(i))\n",
    "    gray = cv2.cvtColor(image, cv2.COLOR_BGR2GRAY)\n",
    "    gray = gray.reshape(28,28,1).astype(\"float32\")/255\n",
    "    chars[i] = gray"
   ]
  },
  {
   "cell_type": "code",
   "execution_count": 13,
   "id": "ce8e1169",
   "metadata": {},
   "outputs": [
    {
     "data": {
      "text/plain": [
       "(5, 28, 28, 1)"
      ]
     },
     "execution_count": 13,
     "metadata": {},
     "output_type": "execute_result"
    }
   ],
   "source": [
    "chars.shape"
   ]
  },
  {
   "cell_type": "code",
   "execution_count": 14,
   "id": "1f5540ef",
   "metadata": {},
   "outputs": [
    {
     "name": "stdout",
     "output_type": "stream",
     "text": [
      "1/1 [==============================] - 0s 153ms/step\n"
     ]
    }
   ],
   "source": [
    "output = model.predict(chars)"
   ]
  },
  {
   "cell_type": "code",
   "execution_count": 15,
   "id": "aeaa34c4",
   "metadata": {},
   "outputs": [
    {
     "name": "stdout",
     "output_type": "stream",
     "text": [
      "6 0.5695939\n",
      "4 0.8671299\n",
      "4 0.98110306\n",
      "5 0.86445713\n",
      "4 0.9996743\n"
     ]
    }
   ],
   "source": [
    "for i in range(len(output)):\n",
    "    print(np.where(output[i] == max(output[i]))[0][0], max(output[i]))"
   ]
  },
  {
   "cell_type": "code",
   "execution_count": null,
   "id": "46974d6a",
   "metadata": {},
   "outputs": [],
   "source": []
  },
  {
   "cell_type": "code",
   "execution_count": 16,
   "id": "700aa5fc",
   "metadata": {},
   "outputs": [],
   "source": [
    "import pandas as pd"
   ]
  },
  {
   "cell_type": "code",
   "execution_count": 17,
   "id": "a3fcbc5b",
   "metadata": {},
   "outputs": [],
   "source": [
    "alpha = pd.read_csv(\"digital_letters.csv\")"
   ]
  },
  {
   "cell_type": "code",
   "execution_count": 18,
   "id": "db76aa7e",
   "metadata": {},
   "outputs": [
    {
     "data": {
      "text/plain": [
       "Index(['Unnamed: 0', '0', '1', '2', '3', '4', '5', '6', '7', '8',\n",
       "       ...\n",
       "       '775', '776', '777', '778', '779', '780', '781', '782', '783', 'label'],\n",
       "      dtype='object', length=786)"
      ]
     },
     "execution_count": 18,
     "metadata": {},
     "output_type": "execute_result"
    }
   ],
   "source": [
    "alpha.columns"
   ]
  },
  {
   "cell_type": "code",
   "execution_count": 19,
   "id": "5e682880",
   "metadata": {},
   "outputs": [],
   "source": [
    "y = alpha[\"label\"]\n",
    "y = y.to_numpy()"
   ]
  },
  {
   "cell_type": "code",
   "execution_count": 20,
   "id": "89d1c68f",
   "metadata": {},
   "outputs": [],
   "source": [
    "x = alpha.drop(['Unnamed: 0', 'label'], axis=1)\n",
    "\n",
    "x = x.to_numpy()\n",
    "total = x.shape[0]\n",
    "\n",
    "x = x.reshape(total, 28, 28, 1).astype(\"float32\")/255"
   ]
  },
  {
   "cell_type": "code",
   "execution_count": 21,
   "id": "9e3f4b77",
   "metadata": {},
   "outputs": [],
   "source": [
    "alphabet = [chr(i) for i in range(ord(\"A\"), ord(\"Z\")+1)]\n",
    "def ndarraytoord(arr):\n",
    "    newarr = np.ndarray(shape=arr.shape)\n",
    "    for idx, val in np.ndenumerate(arr):\n",
    "        newarr[idx] = ord(val)-65\n",
    "    return newarr"
   ]
  },
  {
   "cell_type": "code",
   "execution_count": 22,
   "id": "f0b63637",
   "metadata": {},
   "outputs": [],
   "source": [
    "y = ndarraytoord(y)"
   ]
  },
  {
   "cell_type": "code",
   "execution_count": 23,
   "id": "d7447bb3",
   "metadata": {},
   "outputs": [],
   "source": [
    "from sklearn.model_selection import train_test_split\n",
    "train_images, test_images, train_labels, test_labels = train_test_split(x,y, test_size=0.1)"
   ]
  },
  {
   "cell_type": "code",
   "execution_count": 24,
   "id": "1f6ded92",
   "metadata": {},
   "outputs": [],
   "source": [
    "from keras.utils import to_categorical\n",
    "\n",
    "\n",
    "train_labels = to_categorical(train_labels)\n",
    "test_labels = to_categorical(test_labels)"
   ]
  },
  {
   "cell_type": "code",
   "execution_count": 25,
   "id": "e92c8e9f",
   "metadata": {},
   "outputs": [
    {
     "name": "stdout",
     "output_type": "stream",
     "text": [
      "Model: \"sequential_1\"\n",
      "_________________________________________________________________\n",
      " Layer (type)                Output Shape              Param #   \n",
      "=================================================================\n",
      " conv2d_3 (Conv2D)           (None, 26, 26, 32)        320       \n",
      "                                                                 \n",
      " max_pooling2d_2 (MaxPooling  (None, 13, 13, 32)       0         \n",
      " 2D)                                                             \n",
      "                                                                 \n",
      " conv2d_4 (Conv2D)           (None, 11, 11, 64)        18496     \n",
      "                                                                 \n",
      " max_pooling2d_3 (MaxPooling  (None, 5, 5, 64)         0         \n",
      " 2D)                                                             \n",
      "                                                                 \n",
      " conv2d_5 (Conv2D)           (None, 3, 3, 64)          36928     \n",
      "                                                                 \n",
      " flatten_1 (Flatten)         (None, 576)               0         \n",
      "                                                                 \n",
      " dense_2 (Dense)             (None, 64)                36928     \n",
      "                                                                 \n",
      " dense_3 (Dense)             (None, 26)                1690      \n",
      "                                                                 \n",
      "=================================================================\n",
      "Total params: 94,362\n",
      "Trainable params: 94,362\n",
      "Non-trainable params: 0\n",
      "_________________________________________________________________\n"
     ]
    }
   ],
   "source": [
    "from keras import models\n",
    "from keras import layers\n",
    "\n",
    "model = models.Sequential()\n",
    "model.add(layers.Conv2D(32,(3,3), activation = \"relu\", input_shape = (28, 28, 1)))\n",
    "model.add(layers.MaxPooling2D((2,2)))\n",
    "model.add(layers.Conv2D(64,(3,3), activation = \"relu\"))\n",
    "model.add(layers.MaxPooling2D((2,2)))\n",
    "model.add(layers.Conv2D(64,(3,3), activation = \"relu\"))\n",
    "model.add(layers.Flatten())\n",
    "model.add(layers.Dense(64, activation = \"relu\"))\n",
    "model.add(layers.Dense(26,activation= 'softmax'))\n",
    "\n",
    "model.summary()"
   ]
  },
  {
   "cell_type": "code",
   "execution_count": 26,
   "id": "1f348265",
   "metadata": {},
   "outputs": [],
   "source": [
    "model.compile(optimizer = \"rmsprop\",\n",
    "             loss = \"categorical_crossentropy\", \n",
    "             metrics = [\"accuracy\"])"
   ]
  },
  {
   "cell_type": "code",
   "execution_count": 27,
   "id": "9d872c29",
   "metadata": {},
   "outputs": [
    {
     "name": "stdout",
     "output_type": "stream",
     "text": [
      "Epoch 1/10\n",
      "185/185 [==============================] - 7s 31ms/step - loss: 1.8956 - accuracy: 0.4908\n",
      "Epoch 2/10\n",
      "185/185 [==============================] - 6s 30ms/step - loss: 1.1115 - accuracy: 0.7069\n",
      "Epoch 3/10\n",
      "185/185 [==============================] - 6s 31ms/step - loss: 0.8977 - accuracy: 0.7586\n",
      "Epoch 4/10\n",
      "185/185 [==============================] - 6s 32ms/step - loss: 0.7766 - accuracy: 0.7866\n",
      "Epoch 5/10\n",
      "185/185 [==============================] - 6s 33ms/step - loss: 0.6858 - accuracy: 0.8102\n",
      "Epoch 6/10\n",
      "185/185 [==============================] - 6s 34ms/step - loss: 0.6136 - accuracy: 0.8276\n",
      "Epoch 7/10\n",
      "185/185 [==============================] - 6s 35ms/step - loss: 0.5515 - accuracy: 0.8451\n",
      "Epoch 8/10\n",
      "185/185 [==============================] - 7s 35ms/step - loss: 0.4962 - accuracy: 0.8615\n",
      "Epoch 9/10\n",
      "185/185 [==============================] - 7s 37ms/step - loss: 0.4444 - accuracy: 0.8714\n",
      "Epoch 10/10\n",
      "185/185 [==============================] - 7s 38ms/step - loss: 0.3925 - accuracy: 0.8892\n"
     ]
    },
    {
     "data": {
      "text/plain": [
       "<keras.callbacks.History at 0x158369fd780>"
      ]
     },
     "execution_count": 27,
     "metadata": {},
     "output_type": "execute_result"
    }
   ],
   "source": [
    "model.fit(train_images, \n",
    "         train_labels,\n",
    "         epochs = 10,\n",
    "         batch_size = 64)"
   ]
  },
  {
   "cell_type": "code",
   "execution_count": 28,
   "id": "176a8264",
   "metadata": {},
   "outputs": [
    {
     "name": "stdout",
     "output_type": "stream",
     "text": [
      "1/1 [==============================] - 0s 95ms/step\n"
     ]
    }
   ],
   "source": [
    "output = model.predict(chars)"
   ]
  },
  {
   "cell_type": "code",
   "execution_count": 29,
   "id": "fb44a55c",
   "metadata": {},
   "outputs": [
    {
     "name": "stdout",
     "output_type": "stream",
     "text": [
      "B 0.99954176\n",
      "L 0.9993783\n",
      "A 0.9740691\n",
      "C 0.99345124\n",
      "K 0.996772\n"
     ]
    }
   ],
   "source": [
    "for i in range(len(output)):\n",
    "    print(alphabet[np.where(output[i] == max(output[i]))[0][0]],max(output[i]))"
   ]
  },
  {
   "cell_type": "code",
   "execution_count": null,
   "id": "204da7a9",
   "metadata": {},
   "outputs": [],
   "source": []
  },
  {
   "cell_type": "code",
   "execution_count": null,
   "id": "f171d5c6",
   "metadata": {},
   "outputs": [],
   "source": []
  },
  {
   "cell_type": "code",
   "execution_count": null,
   "id": "6d251e02",
   "metadata": {},
   "outputs": [],
   "source": []
  },
  {
   "cell_type": "code",
   "execution_count": null,
   "id": "2062fbcb",
   "metadata": {},
   "outputs": [],
   "source": []
  }
 ],
 "metadata": {
  "kernelspec": {
   "display_name": "Python 3 (ipykernel)",
   "language": "python",
   "name": "python3"
  },
  "language_info": {
   "codemirror_mode": {
    "name": "ipython",
    "version": 3
   },
   "file_extension": ".py",
   "mimetype": "text/x-python",
   "name": "python",
   "nbconvert_exporter": "python",
   "pygments_lexer": "ipython3",
   "version": "3.10.9"
  }
 },
 "nbformat": 4,
 "nbformat_minor": 5
}
